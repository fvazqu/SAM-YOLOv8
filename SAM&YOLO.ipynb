{
 "cells": [
  {
   "cell_type": "code",
   "execution_count": null,
   "id": "initial_id",
   "metadata": {
    "collapsed": true
   },
   "outputs": [],
   "source": [
    "from ultralytics import YOLO\n",
    "import torch\n",
    "import numpy as np\n",
    "import matplotlib.pyplot as plt\n",
    "import cv2\n",
    "import os\n",
    "import mimetypes"
   ]
  },
  {
   "cell_type": "code",
   "outputs": [],
   "source": [
    "path = \"to_YOLO_MODEL\""
   ],
   "metadata": {
    "collapsed": false
   },
   "id": "cdf941b34bc07563"
  },
  {
   "cell_type": "code",
   "outputs": [],
   "source": [
    "def test_model():\n",
    "    # Check if GPU is available and set the device\n",
    "    device = 'cuda' if torch.cuda.is_available() else 'cpu'\n",
    "    print(f\"Using device: {device}\")\n",
    "\n",
    "    model = YOLO(f\"{path}\")\n",
    "\n",
    "    source = \"test_images/images\"\n",
    "\n",
    "    results = model.predict(source, save_txt=True, save=True)\n",
    "\n",
    "    for r in results:\n",
    "        print(r.boxes)"
   ],
   "metadata": {
    "collapsed": false
   },
   "id": "73843dcaf212e200"
  },
  {
   "cell_type": "code",
   "outputs": [],
   "source": [
    "if __name__==\"__main__\":\n",
    "    test_model()"
   ],
   "metadata": {
    "collapsed": false
   },
   "id": "e0916f6d8154c13b"
  },
  {
   "cell_type": "code",
   "outputs": [],
   "source": [
    "def show_mask(mask, ax, random_color=False):\n",
    "    if random_color:\n",
    "        color = np.concatenate([np.random.random(3), np.array([0.6])], axis=0)\n",
    "    else:\n",
    "        color = np.array([30/255, 144/255, 255/255, 0.6])\n",
    "    h, w = mask.shape[-2:]\n",
    "    mask_image = mask.reshape(h, w, 1) * color.reshape(1, 1, -1)\n",
    "    ax.imshow(mask_image)\n",
    "    \n",
    "def show_points(coords, labels, ax, marker_size=375):\n",
    "    pos_points = coords[labels==1]\n",
    "    neg_points = coords[labels==0]\n",
    "    ax.scatter(pos_points[:, 0], pos_points[:, 1], color='green', marker='*', s=marker_size, edgecolor='white', linewidth=1.25)\n",
    "    ax.scatter(neg_points[:, 0], neg_points[:, 1], color='red', marker='*', s=marker_size, edgecolor='white', linewidth=1.25)   \n",
    "    \n",
    "def show_box(box, ax):\n",
    "    x0, y0 = box[0], box[1]\n",
    "    w, h = box[2] - box[0], box[3] - box[1]\n",
    "    ax.add_patch(plt.Rectangle((x0, y0), w, h, edgecolor='green', facecolor=(0,0,0,0), lw=2)) "
   ],
   "metadata": {
    "collapsed": false
   },
   "id": "1a14d9306d65fa3f"
  },
  {
   "cell_type": "code",
   "outputs": [],
   "source": [
    "# Define the base directory where the results are saved\n",
    "base_dir = \"runs/detect\"\n",
    "\n",
    "# Get a list of all subdirectories in the base directory\n",
    "sub_dirs = [os.path.join(base_dir, d) for d in os.listdir(base_dir) if os.path.isdir(os.path.join(base_dir, d))]\n",
    "\n",
    "# Sort the subdirectories by creation time\n",
    "sub_dirs.sort(key=lambda x: os.path.getmtime(x), reverse=True)\n",
    "\n",
    "# The first subdirectory in the sorted list is the latest directory\n",
    "latest_dir = sub_dirs[0]\n",
    "\n",
    "# Define the subdirectory where the .txt files are saved\n",
    "sub_dir = \"labels\"\n",
    "\n",
    "# Construct the full path to the .txt files\n",
    "txt_files_path = os.path.join(latest_dir, sub_dir)\n",
    "\n",
    "    \n",
    "print(txt_files_path)"
   ],
   "metadata": {
    "collapsed": false
   },
   "id": "e821a0cd5ea9dc76"
  },
  {
   "cell_type": "code",
   "outputs": [],
   "source": [
    "# Check if the directory exists\n",
    "if os.path.isdir(txt_files_path):\n",
    "    # Get a list of all files in the directory\n",
    "    txt_files = sorted(os.listdir(txt_files_path))\n",
    "    print(txt_files)\n",
    "else:\n",
    "    print(f\"The directory {txt_files_path} does not exist.\")"
   ],
   "metadata": {
    "collapsed": false
   },
   "id": "1bc230c5b834287e"
  },
  {
   "cell_type": "code",
   "outputs": [],
   "source": [
    "# Iterate over the sorted lists\n",
    "labels = []\n",
    "order = []\n",
    "\n",
    "for filename in txt_files:\n",
    "    print(filename)\n",
    "    \n",
    "    # Get the number from file name\n",
    "    current = (int(filename.split('.')[0]))\n",
    "\n",
    "    # Check if the file is a txt file\n",
    "    mime_type, _ = mimetypes.guess_type(filename)\n",
    "    if mime_type in ['text/plain']:\n",
    "        # print('It is a text file')\n",
    "        \n",
    "        # Construct the full path to the file\n",
    "        full_path = os.path.join(txt_files_path, filename)\n",
    "        print(full_path)\n",
    "\n",
    "        # Get class_id from the id file\n",
    "        with open(full_path, 'r') as f:\n",
    "            lines = f.readlines()\n",
    "            print(lines)\n",
    "\n",
    "        # Get the annotations from the annotation file\n",
    "        for line in lines:\n",
    "            other_parts = line.split()\n",
    "            annotations = other_parts[1:]\n",
    "            labels.append(annotations)\n",
    "            order.append(current)"
   ],
   "metadata": {
    "collapsed": false
   },
   "id": "454ff3cd33423780"
  },
  {
   "cell_type": "code",
   "outputs": [],
   "source": [
    "print(labels)\n",
    "print(order)"
   ],
   "metadata": {
    "collapsed": false
   },
   "id": "3d6e4fae08ac9030"
  },
  {
   "cell_type": "code",
   "outputs": [],
   "source": [
    "def display_and_convert_images(path):\n",
    "    # Get a list of all files in the directory\n",
    "    files = os.listdir(path)\n",
    "\n",
    "    # Determine the number of images\n",
    "    num_images = len(files)\n",
    "\n",
    "    # Determine subplot size\n",
    "    num_cols = 4\n",
    "    if (num_images + 1) % num_cols == 0:\n",
    "        num_rows = (num_images + 1) // num_cols\n",
    "    else:\n",
    "        num_rows = (num_images + 1) // num_cols + 1\n",
    "\n",
    "    # Create a new figure\n",
    "    plt.figure(figsize=(10 * num_cols, 10 * num_rows))\n",
    "\n",
    "    images = []\n",
    "    images_paths = []\n",
    "\n",
    "    # Iterate over all files in the directory\n",
    "    for i, filename in enumerate(files, start=1):\n",
    "        # Construct the full path to the image file\n",
    "        image_path = os.path.join(path, filename)\n",
    "\n",
    "        # Read the image\n",
    "        image = cv2.imread(image_path)\n",
    "\n",
    "        # Convert the image from BGR to RGB\n",
    "        image = cv2.cvtColor(image, cv2.COLOR_BGR2RGB)\n",
    "\n",
    "        # Add a subplot for the current image\n",
    "        plt.subplot(num_rows, num_cols, i)\n",
    "\n",
    "        # Display the image\n",
    "        plt.imshow(image)\n",
    "        plt.axis('off')\n",
    "        images.append(image)\n",
    "        images_paths.append(filename)\n",
    "        \n",
    "\n",
    "    # Show all images\n",
    "    plt.show()\n",
    "\n",
    "    return images, images_paths"
   ],
   "metadata": {
    "collapsed": false
   },
   "id": "6d8be6e21d3a275d"
  },
  {
   "cell_type": "code",
   "outputs": [],
   "source": [
    "path = \"path_to_images\"\n",
    "images, images_paths = display_and_convert_images(path)"
   ],
   "metadata": {
    "collapsed": false
   },
   "id": "9bfd87fb4f891a07"
  },
  {
   "cell_type": "code",
   "outputs": [],
   "source": [
    "def convert_bboxes(bboxes, image_height, image_width):\n",
    "\n",
    "    input_boxes = []\n",
    "    input_points = []\n",
    "    \n",
    "    for bbox in bboxes:\n",
    "        # Extract the normalized bounding box values\n",
    "        x_center, y_center, box_width, box_height = bbox\n",
    "    \n",
    "        # Unnormalize the values to get pixel coordinates\n",
    "        x_center = x_center * image_width\n",
    "        y_center = y_center * image_height\n",
    "        box_width = box_width * image_width\n",
    "        box_height = box_height * image_height\n",
    "    \n",
    "        # Calculate the top-left (x_min, y_min) and bottom-right (x_max, y_max) corners\n",
    "        x_min = x_center - (box_width / 2)\n",
    "        y_min = y_center - (box_height / 2)\n",
    "        x_max = x_center + (box_width / 2)\n",
    "        y_max = y_center + (box_height / 2)\n",
    "    \n",
    "        # Append the converted bounding box to the list\n",
    "        input_boxes.append([x_min, y_min, x_max, y_max])\n",
    "        input_points.append([x_center, y_center])\n",
    "    \n",
    "        input_box = np.array(input_boxes)\n",
    "        input_point = np.array(input_points)\n",
    "        input_label = np.array([1]*len(input_boxes))\n",
    "    \n",
    "\n",
    "\n",
    "    return input_box, input_point, input_label"
   ],
   "metadata": {
    "collapsed": false
   },
   "id": "a8039a168590dd5d"
  },
  {
   "cell_type": "code",
   "outputs": [],
   "source": [
    "import sys\n",
    "sys.path.append(\"..\")\n",
    "from segment_anything import sam_model_registry, SamPredictor\n",
    "\n",
    "sam_checkpoint = \"path_to_SAM_checkpoint\"  # Check SAM jupyter Notebook for the checkpoint instructions\n",
    "model_type = \"vit_h\"\n",
    "\n",
    "device = \"cuda\"\n",
    "\n",
    "sam = sam_model_registry[model_type](checkpoint=sam_checkpoint)\n",
    "sam.to(device=device)\n",
    "\n",
    "predictor = SamPredictor(sam)\n"
   ],
   "metadata": {
    "collapsed": false
   },
   "id": "697886a05fe9c38b"
  },
  {
   "cell_type": "code",
   "outputs": [],
   "source": [
    "# Convert string values to float\n",
    "labels = [[float(coord) for coord in bbox] for bbox in labels]\n",
    "\n",
    "i = 0\n",
    "\n",
    "# Initialize a dictionary to collect bounding boxes per image\n",
    "image_to_boxes = {}\n",
    "\n",
    "# Iterate over images and order simultaneously\n",
    "for idx in range(len(order)):\n",
    "    current_idx = order[idx]\n",
    "    \n",
    "    # Get the number from file name\n",
    "    filename = int(images_paths[current_idx].split('.')[0])\n",
    "    \n",
    "    # Get the labels for the current image\n",
    "    image_labels = labels[i]\n",
    "    \n",
    "    # If the current image is already in the dictionary, append the new bounding box\n",
    "    if current_idx in image_to_boxes:\n",
    "        image_to_boxes[current_idx].append(image_labels)\n",
    "    else:\n",
    "        # Otherwise, create a new entry for this image\n",
    "        image_to_boxes[current_idx] = [image_labels]\n",
    "    \n",
    "    # Move to the next label\n",
    "    i += 1\n",
    "\n",
    "# Now you have all bounding boxes for each image collected.\n",
    "# Let's iterate over the images and process all bounding boxes at once\n",
    "for idx, boxes in image_to_boxes.items():\n",
    "    image = images[idx]\n",
    "\n",
    "    # Assuming image_height and image_width are defined\n",
    "    image_height, image_width, _ = image.shape\n",
    "    \n",
    "    # Convert all boxes for the current image\n",
    "    input_boxes, input_points, input_labels = convert_bboxes(boxes, image_height, image_width)\n",
    "\n",
    "    # Create masks and process the image with all bounding boxes\n",
    "    predictor.set_image(image)\n",
    "    \n",
    "    # For multiple boxes\n",
    "    ib = torch.tensor(input_boxes, device=predictor.device)\n",
    "    \n",
    "    transformed_boxes = predictor.transform.apply_boxes_torch(ib, image.shape[:2])\n",
    "    \n",
    "    masks, _, _ = predictor.predict_torch(\n",
    "    point_coords=None,\n",
    "    point_labels=None,\n",
    "    boxes=transformed_boxes,\n",
    "    multimask_output=False,\n",
    "    )\n",
    "    \n",
    "    # Display the image\n",
    "    plt.imshow(image)\n",
    "    plt.axis('off')\n",
    "    for mask in masks:\n",
    "        show_mask(mask.cpu().numpy(), plt.gca(), random_color=True)\n",
    "    for box in ib:\n",
    "        show_box(box.cpu().numpy(), plt.gca())\n",
    "    show_points(input_points, input_labels, plt.gca())\n",
    "    plt.figure(figsize=(10,10))\n",
    "    plt.show() \n",
    "    "
   ],
   "metadata": {
    "collapsed": false
   },
   "id": "c36ae9895c0b1328"
  }
 ],
 "metadata": {
  "kernelspec": {
   "display_name": "Python 3",
   "language": "python",
   "name": "python3"
  },
  "language_info": {
   "codemirror_mode": {
    "name": "ipython",
    "version": 2
   },
   "file_extension": ".py",
   "mimetype": "text/x-python",
   "name": "python",
   "nbconvert_exporter": "python",
   "pygments_lexer": "ipython2",
   "version": "2.7.6"
  }
 },
 "nbformat": 4,
 "nbformat_minor": 5
}
